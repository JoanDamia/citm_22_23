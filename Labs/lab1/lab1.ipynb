{
  "nbformat": 4,
  "nbformat_minor": 0,
  "metadata": {
    "colab": {
      "provenance": [],
      "collapsed_sections": []
    },
    "kernelspec": {
      "name": "python3",
      "display_name": "Python 3"
    },
    "language_info": {
      "name": "python"
    }
  },
  "cells": [
    {
      "cell_type": "markdown",
      "source": [
        "# **Lab 1:** Implementing a solver for systems of linear equations\n",
        "\n"
      ],
      "metadata": {
        "id": "eXQWx_qFWKoY"
      }
    },
    {
      "cell_type": "code",
      "source": [
        "import numpy as np\n",
        "from lab1_functions import naive_forward_elimination, forward_elimination, backtracking"
      ],
      "metadata": {
        "id": "cwPmal-IZlFj",
        "colab": {
          "base_uri": "https://localhost:8080/",
          "height": 342
        },
        "outputId": "52bca955-e4be-49e9-c653-e9dec20ea466"
      },
      "execution_count": 1,
      "outputs": [
        {
          "output_type": "error",
          "ename": "ModuleNotFoundError",
          "evalue": "ignored",
          "traceback": [
            "\u001b[0;31m---------------------------------------------------------------------------\u001b[0m",
            "\u001b[0;31mModuleNotFoundError\u001b[0m                       Traceback (most recent call last)",
            "\u001b[0;32m<ipython-input-1-217118ce2f6a>\u001b[0m in \u001b[0;36m<module>\u001b[0;34m\u001b[0m\n\u001b[1;32m      1\u001b[0m \u001b[0;32mimport\u001b[0m \u001b[0mnumpy\u001b[0m \u001b[0;32mas\u001b[0m \u001b[0mnp\u001b[0m\u001b[0;34m\u001b[0m\u001b[0;34m\u001b[0m\u001b[0m\n\u001b[0;32m----> 2\u001b[0;31m \u001b[0;32mfrom\u001b[0m \u001b[0mlab1_functions\u001b[0m \u001b[0;32mimport\u001b[0m \u001b[0mnaive_forward_elimination\u001b[0m\u001b[0;34m,\u001b[0m \u001b[0mforward_elimination\u001b[0m\u001b[0;34m,\u001b[0m \u001b[0mbacktracking\u001b[0m\u001b[0;34m\u001b[0m\u001b[0;34m\u001b[0m\u001b[0m\n\u001b[0m\u001b[1;32m      3\u001b[0m \u001b[0;32mfrom\u001b[0m \u001b[0mgoogle\u001b[0m\u001b[0;34m.\u001b[0m\u001b[0mcolab\u001b[0m \u001b[0;32mimport\u001b[0m \u001b[0mdrive\u001b[0m\u001b[0;34m\u001b[0m\u001b[0;34m\u001b[0m\u001b[0m\n",
            "\u001b[0;31mModuleNotFoundError\u001b[0m: No module named 'lab1_functions'",
            "",
            "\u001b[0;31m---------------------------------------------------------------------------\u001b[0;32m\nNOTE: If your import is failing due to a missing package, you can\nmanually install dependencies using either !pip or !apt.\n\nTo view examples of installing some common dependencies, click the\n\"Open Examples\" button below.\n\u001b[0;31m---------------------------------------------------------------------------\u001b[0m\n"
          ],
          "errorDetails": {
            "actions": [
              {
                "action": "open_url",
                "actionText": "Open Examples",
                "url": "/notebooks/snippets/importing_libraries.ipynb"
              }
            ]
          }
        }
      ]
    },
    {
      "cell_type": "markdown",
      "source": [
        "\n",
        "\n",
        "---\n",
        "\n",
        "\n",
        "## **Exercise 1:**\n",
        "\n",
        "Implement and test a backtracking substitution function. \n",
        "\n",
        "### First:\n",
        "Implement the backtracking function in the lab1_functions.py file.\n",
        "Input arguments should be At and bt representing a Triangular matrix and an independent term vector. The output of the function should be the solution vector $\\boldsymbol{x}$ such that $\\boldsymbol{A}_t\\boldsymbol{x}=\\boldsymbol{b}_t$\n",
        "\n",
        "### Secondly:\n",
        "\n",
        "Test the implemented function inside this notebook. To this end generate a **couple** of triangular systems for which you know the answer. The purpose of this section is to **TEST** your function, so consider complex cases, e.g., system dimensions > 4"
      ],
      "metadata": {
        "id": "LYPMXnh-LHNn"
      }
    },
    {
      "cell_type": "code",
      "source": [],
      "metadata": {
        "id": "txUxhm7DbAR1"
      },
      "execution_count": null,
      "outputs": []
    },
    {
      "cell_type": "markdown",
      "source": [
        "\n",
        "\n",
        "---\n",
        "\n",
        "\n",
        "## **Exercise 2:**\n",
        "\n",
        "Implement and test a naïve forward elimination function \n",
        "\n",
        "### First:\n",
        "Implement the naive_forward_elimination function in the lab1_functions.py file.\n",
        "Input arguments should be A and b representing a generic square matrix and an independent term vector. The output of the function should be an equivalent system represented by At, bt with At triangular.\n",
        "\n",
        "Use the expression\n",
        "$$ \\boldsymbol{r}_j = a_{pp} \\boldsymbol{r}_j - a_{jp}\\boldsymbol{r}_p\\quad \\forall j>p $$\n",
        "to make 0 under the pivot $a_{pp}$\n",
        "\n",
        "\n",
        "### Secondly:\n",
        "\n",
        "Test the implemented function inside this notebook. To this end generate a **couple** of systems for which you know the answer. The purpose of this section is to **TEST** your function, so consider complex cases, e.g., system dimensions > 4.\n",
        "\n",
        "Find the solutions to the proposed system by calling first the naive_forward_elimination() function and after, the backtracking function already implemented in the above exercise."
      ],
      "metadata": {
        "id": "ld9ydWJTbdE1"
      }
    },
    {
      "cell_type": "markdown",
      "source": [
        "\n",
        "\n",
        "\n",
        "---\n",
        "---\n",
        "# **More info:** \n",
        "\n",
        "\n"
      ],
      "metadata": {
        "id": "kd70T9RFLT7Y"
      }
    },
    {
      "cell_type": "markdown",
      "source": [
        "Big number issue:"
      ],
      "metadata": {
        "id": "HHJZ7FduLfMM"
      }
    },
    {
      "cell_type": "code",
      "execution_count": null,
      "metadata": {
        "colab": {
          "base_uri": "https://localhost:8080/"
        },
        "id": "AD285pV5XRDz",
        "outputId": "94ae7693-0b52-4c42-8ef9-4a23207f49a4"
      },
      "outputs": [
        {
          "output_type": "stream",
          "name": "stdout",
          "text": [
            "0.0\n"
          ]
        }
      ],
      "source": [
        "a = 1E99\n",
        "b = 1E99+1\n",
        "print(a-b)"
      ]
    },
    {
      "cell_type": "markdown",
      "source": [
        "\n",
        "\n",
        "---\n",
        "\n",
        "\n",
        "\n",
        "**HOW TO:** Swap to rows\n",
        "\n",
        "Given a matrix A,  \n",
        "`A[[i,j],:] = A[[j,i],:] `  \n",
        "swaps rows i and j.\n",
        "\n",
        "In the next example the matrix A is a random created 6x6 matrix and then the 2nd and 6th rows (indexes 1 and 5) are exchanged"
      ],
      "metadata": {
        "id": "3nOmDcVWZfpz"
      }
    },
    {
      "cell_type": "code",
      "source": [
        "A = np.random.rand(6,6)\n",
        "print('A =', A,\"\\n\")\n",
        "A[[1,5],:] = A[[5,1],:]\n",
        "print(\"A swapped=\",A)\n",
        "\n",
        "print(type(A))"
      ],
      "metadata": {
        "colab": {
          "base_uri": "https://localhost:8080/"
        },
        "id": "mZSWwCmrZesm",
        "outputId": "9df5da8b-772c-40f1-b7e7-a7bc31b26dbb"
      },
      "execution_count": 6,
      "outputs": [
        {
          "output_type": "stream",
          "name": "stdout",
          "text": [
            "A = [[0.05357236 0.01221236 0.58165656 0.52359506 0.90662332 0.41671282]\n",
            " [0.08017041 0.20062922 0.34969525 0.04659676 0.9175846  0.61504843]\n",
            " [0.50861281 0.3817688  0.86834609 0.67068405 0.80685987 0.91543537]\n",
            " [0.96496688 0.8146323  0.95658797 0.02033569 0.60089896 0.23489521]\n",
            " [0.96093135 0.89073761 0.95159881 0.36086317 0.86690587 0.53862592]\n",
            " [0.12177215 0.64939733 0.24019044 0.00815078 0.33716567 0.86830656]] \n",
            "\n",
            "A swapped= [[0.05357236 0.01221236 0.58165656 0.52359506 0.90662332 0.41671282]\n",
            " [0.12177215 0.64939733 0.24019044 0.00815078 0.33716567 0.86830656]\n",
            " [0.50861281 0.3817688  0.86834609 0.67068405 0.80685987 0.91543537]\n",
            " [0.96496688 0.8146323  0.95658797 0.02033569 0.60089896 0.23489521]\n",
            " [0.96093135 0.89073761 0.95159881 0.36086317 0.86690587 0.53862592]\n",
            " [0.08017041 0.20062922 0.34969525 0.04659676 0.9175846  0.61504843]]\n",
            "<class 'numpy.ndarray'>\n"
          ]
        }
      ]
    },
    {
      "cell_type": "markdown",
      "source": [
        "---\n",
        "\n",
        "**HOW TO:** Search for the maximum entry into a vector\n",
        "\n",
        "Use the function `np.argmax(L)` to find the position index `j`, for which `L[j]` is the maximum entry in `L`.\n",
        "\n",
        "In the next example we would like to find the row wich contains the best pivot to continue with a triangulation process of matrix `B`. `L` represents the vector of considered entries and `m` is the position of the best pivot (the farthest from 0) in `L`."
      ],
      "metadata": {
        "id": "uSOm0HoJee9d"
      }
    },
    {
      "cell_type": "code",
      "source": [
        "B = np.array([[ 0.66207722,  0.52655123,  -0.25817321,  0.08355348,  -0.67190337,  0.36463801],\n",
        "    [ 0,  -0.56111226, -0.96739743, -0.90302233, -0.09202517, -0.54174931],\n",
        "    [ 0,   0,           0.08650408,  0.71455831,  0.38972072,  0.31245884],\n",
        "    [ 0,   0,           0.59489716,  -0.07148201,  -0.57395873,  0.69406166],\n",
        "    [ 0,   0,          -0.95005076,  0.53283380,   0.37666519,  -0.05645905],\n",
        "    [ 0,   0,          -0.27707964, -0.74979451, -0.76113234, -0.03147524]])\n",
        "\n",
        "print(B)\n",
        "\n",
        "L = B[2:,2]\n",
        "print(L,'\\n')\n",
        "m = np.argmax(abs(L))\n",
        "print(m)\n",
        "print(L[m])"
      ],
      "metadata": {
        "colab": {
          "base_uri": "https://localhost:8080/"
        },
        "id": "68yHkcf-azG-",
        "outputId": "5ca600a9-c6a1-4270-9185-b09e32ca9d4d"
      },
      "execution_count": 5,
      "outputs": [
        {
          "output_type": "stream",
          "name": "stdout",
          "text": [
            "[[ 0.66207722  0.52655123 -0.25817321  0.08355348 -0.67190337  0.36463801]\n",
            " [ 0.         -0.56111226 -0.96739743 -0.90302233 -0.09202517 -0.54174931]\n",
            " [ 0.          0.          0.08650408  0.71455831  0.38972072  0.31245884]\n",
            " [ 0.          0.          0.59489716 -0.07148201 -0.57395873  0.69406166]\n",
            " [ 0.          0.         -0.95005076  0.5328338   0.37666519 -0.05645905]\n",
            " [ 0.          0.         -0.27707964 -0.74979451 -0.76113234 -0.03147524]]\n",
            "[ 0.08650408  0.59489716 -0.95005076 -0.27707964] \n",
            "\n",
            "2\n",
            "-0.95005076\n"
          ]
        }
      ]
    },
    {
      "cell_type": "markdown",
      "source": [
        "---\n",
        "\n",
        "**HOW TO:** Concatenate two matrices\n",
        "\n",
        "Use the functions \n",
        "\n",
        "*   `np.concatenate((A, B), axis = 0)` to stack two matrixes along the vertical direction\n",
        "*   `np.concatenate((A, B), axis = 1)` to stack two matrixes along the horizontal direction\n",
        "\n",
        "Alternatives also exist, e.g., np.hstack(), np.vstack().\n",
        "\n",
        "The next example takes two matrices and concatenates them in the vertical direction.\n",
        "\n",
        "\n",
        " "
      ],
      "metadata": {
        "id": "KKvy7DbUUG2-"
      }
    },
    {
      "cell_type": "code",
      "source": [
        "A = np.random.rand(4,4)\n",
        "B = np.random.rand(2,4)\n",
        "\n",
        "print(\"A = \", A, \"\\n\")\n",
        "print(\"B = \", B, \"\\n\")\n",
        "\n",
        "C = np.concatenate((A,B), axis = 0)\n",
        "print(\"C = \", C, \"\\n\")\n",
        "C2 = np.vstack((A,B))\n",
        "print(\"C = \", C2, \"\\n\")"
      ],
      "metadata": {
        "colab": {
          "base_uri": "https://localhost:8080/"
        },
        "id": "zGPZC09DE1iA",
        "outputId": "bb19dbf0-6543-4e85-f9f1-b1366b0103a6"
      },
      "execution_count": 10,
      "outputs": [
        {
          "output_type": "stream",
          "name": "stdout",
          "text": [
            "A =  [[0.61319424 0.75777579 0.69224229 0.38080204]\n",
            " [0.04787482 0.46712267 0.96250015 0.99982833]\n",
            " [0.14325826 0.17764917 0.34610592 0.98990842]\n",
            " [0.57628847 0.97755698 0.18455843 0.10796077]] \n",
            "\n",
            "B =  [[0.95883353 0.07750782 0.8790196  0.34236876]\n",
            " [0.59519182 0.33880636 0.93909379 0.29443256]] \n",
            "\n",
            "C =  [[0.61319424 0.75777579 0.69224229 0.38080204]\n",
            " [0.04787482 0.46712267 0.96250015 0.99982833]\n",
            " [0.14325826 0.17764917 0.34610592 0.98990842]\n",
            " [0.57628847 0.97755698 0.18455843 0.10796077]\n",
            " [0.95883353 0.07750782 0.8790196  0.34236876]\n",
            " [0.59519182 0.33880636 0.93909379 0.29443256]] \n",
            "\n",
            "C =  [[0.61319424 0.75777579 0.69224229 0.38080204]\n",
            " [0.04787482 0.46712267 0.96250015 0.99982833]\n",
            " [0.14325826 0.17764917 0.34610592 0.98990842]\n",
            " [0.57628847 0.97755698 0.18455843 0.10796077]\n",
            " [0.95883353 0.07750782 0.8790196  0.34236876]\n",
            " [0.59519182 0.33880636 0.93909379 0.29443256]] \n",
            "\n"
          ]
        }
      ]
    },
    {
      "cell_type": "code",
      "source": [
        "B"
      ],
      "metadata": {
        "id": "b-pOJ2gAVgQq"
      },
      "execution_count": null,
      "outputs": []
    }
  ]
}