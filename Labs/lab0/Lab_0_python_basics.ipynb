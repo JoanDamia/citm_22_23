{
  "nbformat": 4,
  "nbformat_minor": 0,
  "metadata": {
    "colab": {
      "provenance": [],
      "private_outputs": true,
      "collapsed_sections": [],
      "toc_visible": true,
      "authorship_tag": "ABX9TyN9IJl7XUSvJ3paIiIYq1vw",
      "include_colab_link": true
    },
    "kernelspec": {
      "name": "python3",
      "display_name": "Python 3"
    },
    "language_info": {
      "name": "python"
    }
  },
  "cells": [
    {
      "cell_type": "markdown",
      "metadata": {
        "id": "view-in-github",
        "colab_type": "text"
      },
      "source": [
        "<a href=\"https://colab.research.google.com/github/jul-upc/citm_22_23/blob/main/lab0/Lab_0_python_basics.ipynb\" target=\"_parent\"><img src=\"https://colab.research.google.com/assets/colab-badge.svg\" alt=\"Open In Colab\"/></a>"
      ]
    },
    {
      "cell_type": "markdown",
      "source": [
        "# Python introduction exercises\n",
        "\n",
        "Based on: \\\\\n",
        "Beginning Matlab Exercises \\\\\n",
        "R. J. Braun \\\\\n",
        "Department of Mathematical Sciences \\\\\n",
        "University of Delaware\n",
        "\n",
        "When installed on the system, Python can be used as:\n",
        "- A calculator, by using the terminal\n",
        "- An scripting language, by executing .py files \n",
        "- A notebook (like in this the case), which as interactive way of execute code sections and can be mixed with text\n",
        "\n",
        "The labs however are going to make use google colab, which is a notebook-type interpreter for python running on a remote server and accessible for free through internet.\n",
        "\n"
      ],
      "metadata": {
        "id": "AAl10vo35lki"
      }
    },
    {
      "cell_type": "markdown",
      "source": [
        "## Working with scalars\n",
        "\n",
        "Scalars and basic math operations. Use the notebook as a calculator to find the value of each of the next proposed math equations.\n",
        "\n",
        "Precedence of arithmetic operations is: (1) parentheses, (2) exponentiation, (3) multiplication and division, and (4) addition and subtraction. Calculations proceed from left to right on the line and equal precedence is settled in this way"
      ],
      "metadata": {
        "id": "si1rptgr5kLz"
      }
    },
    {
      "cell_type": "markdown",
      "source": [
        "📑  $3*2^4$"
      ],
      "metadata": {
        "id": "g8fDc2J770xK"
      }
    },
    {
      "cell_type": "code",
      "source": [],
      "metadata": {
        "id": "JYrrxgtB70gl"
      },
      "execution_count": null,
      "outputs": []
    },
    {
      "cell_type": "markdown",
      "source": [
        "📑 $(3*2)^4$  Parentheses have highest priority"
      ],
      "metadata": {
        "id": "vqtkZlcI8lEb"
      }
    },
    {
      "cell_type": "code",
      "source": [],
      "metadata": {
        "id": "Ci1ebWvo8kwC"
      },
      "execution_count": null,
      "outputs": []
    },
    {
      "cell_type": "markdown",
      "source": [
        "📑 $3-2^4$"
      ],
      "metadata": {
        "id": "Mn9r-fn38knM"
      }
    },
    {
      "cell_type": "code",
      "source": [],
      "metadata": {
        "id": "ptdKDNdm8kgL"
      },
      "execution_count": null,
      "outputs": []
    },
    {
      "cell_type": "markdown",
      "source": [
        "📑 $3^4-3$"
      ],
      "metadata": {
        "id": "7QmNVtq-8kaZ"
      }
    },
    {
      "cell_type": "code",
      "source": [],
      "metadata": {
        "id": "kOLX9x6K8kS0"
      },
      "execution_count": null,
      "outputs": []
    },
    {
      "cell_type": "markdown",
      "source": [
        "📑 $8/2^4$"
      ],
      "metadata": {
        "id": "QixB_Mps8kKh"
      }
    },
    {
      "cell_type": "code",
      "source": [],
      "metadata": {
        "id": "q3rVknjG8kEX"
      },
      "execution_count": null,
      "outputs": []
    },
    {
      "cell_type": "markdown",
      "source": [
        "📑 $8^4/2$"
      ],
      "metadata": {
        "id": "iFMKVV6v8j9T"
      }
    },
    {
      "cell_type": "code",
      "source": [],
      "metadata": {
        "id": "NF6GqIMD8j0V"
      },
      "execution_count": null,
      "outputs": []
    },
    {
      "cell_type": "markdown",
      "source": [
        "\n",
        "\n",
        "---\n",
        "\n",
        "\n",
        "##Starting with Vectors:\n",
        "\n",
        "The most strightforward thing to do to recreate vectors in python is to use the list type. Lists are ordered and mutable array of variables. \n",
        "\n",
        "\n",
        "**To construct a list** type\n",
        "```\n",
        "x = [x_1 x_2 x_3 ... x_n]\n",
        "```\n",
        "\n",
        "However, lists are mean to be used with any kind of data type, e.g., scalars, strings, booleans, tuples... etc and even other lists, lists of lists... and so on. Given its generality **its performance is usually poor**. And hence are not very meant to be used to mathematical calculations. Nevertheless, we can still need them in some occassions, so let's practice the basics.\n",
        "\n"
      ],
      "metadata": {
        "id": "tCXnYPqt8jtv"
      }
    },
    {
      "cell_type": "markdown",
      "source": [
        "📑 Create a list with the elements 1, 2, 3, 4, 5"
      ],
      "metadata": {
        "id": "iLl9-PZX_FFF"
      }
    },
    {
      "cell_type": "code",
      "source": [
        "x= [1, 2, 3, 4, 5]\n",
        "print(x)"
      ],
      "metadata": {
        "id": "eUoeJiaK8jnL"
      },
      "execution_count": null,
      "outputs": []
    },
    {
      "cell_type": "markdown",
      "source": [
        "There are other ways to create a list, e.g.,\n",
        "\n",
        "\n",
        "```\n",
        "list(range(a,b,c))\n",
        "```\n",
        "generates a list that starts in a and end before b with increments of c.\n"
      ],
      "metadata": {
        "id": "CBLmlBCq8jf6"
      }
    },
    {
      "cell_type": "markdown",
      "source": [
        "📑 Use the range function to generate a list **x** that starts by 0 and ends in 50(included) with increments of 2"
      ],
      "metadata": {
        "id": "lKwGny3RBy08"
      }
    },
    {
      "cell_type": "code",
      "source": [],
      "metadata": {
        "id": "RHby1puj8jaK"
      },
      "execution_count": null,
      "outputs": []
    },
    {
      "cell_type": "markdown",
      "source": [
        "📑 Use the command len() to verify the length of the past list"
      ],
      "metadata": {
        "id": "6frsTUzv8jT2"
      }
    },
    {
      "cell_type": "code",
      "source": [],
      "metadata": {
        "id": "URmfvJxT8jMu"
      },
      "execution_count": null,
      "outputs": []
    },
    {
      "cell_type": "markdown",
      "source": [
        "To acces to elements of a list use square braquets, e.g., x[3]. Remember that in python indexing starts at 0."
      ],
      "metadata": {
        "id": "0PIWHrKK8jGW"
      }
    },
    {
      "cell_type": "markdown",
      "source": [
        "📑 Acces to the last element of list x"
      ],
      "metadata": {
        "id": "nuslJi3TypYe"
      }
    },
    {
      "cell_type": "code",
      "source": [],
      "metadata": {
        "id": "KvH-bZqL8i_4"
      },
      "execution_count": null,
      "outputs": []
    },
    {
      "cell_type": "markdown",
      "source": [
        "**Negative indexing.** Lists can be accessed by the end using negative indexing. e.g. the final value of the list x can be retrieved by typing x[-1]"
      ],
      "metadata": {
        "id": "kaKl10Ax8i4D"
      }
    },
    {
      "cell_type": "markdown",
      "source": [
        "📑 Acces to the first element of list x, using negative indexing"
      ],
      "metadata": {
        "id": "YGwkGwNO8is5"
      }
    },
    {
      "cell_type": "code",
      "source": [],
      "metadata": {
        "id": "s93yHc9U8iin"
      },
      "execution_count": null,
      "outputs": []
    },
    {
      "cell_type": "markdown",
      "source": [
        "**Slicing:** A part of a list can be retrieved by defining a range of indexes\n",
        "\n",
        "\n",
        "*   x[a:b] will take all the elements starting at the index a and ending before b\n",
        "\n",
        "*   x[a:b:c] will take all the elements starting at the index a and ending before b with steps of c\n",
        "\n",
        "*   x[:b] will take all the elements preceding the b position\n",
        "\n",
        "*   x[a:] will take the elements in the position a and after it\n"
      ],
      "metadata": {
        "id": "aOFtekt68icH"
      }
    },
    {
      "cell_type": "markdown",
      "source": [
        "📑 Verify the output of x[0:3]"
      ],
      "metadata": {
        "id": "tOpwXyIY04FQ"
      }
    },
    {
      "cell_type": "code",
      "source": [],
      "metadata": {
        "id": "7lzZ-T9r8iVt"
      },
      "execution_count": null,
      "outputs": []
    },
    {
      "cell_type": "markdown",
      "source": [
        "📑 Which command you should run to obtain all all the odd elements of x after 25?"
      ],
      "metadata": {
        "id": "sGUDYlod8iPx"
      }
    },
    {
      "cell_type": "code",
      "source": [],
      "metadata": {
        "id": "RIdLut7_8iIS"
      },
      "execution_count": null,
      "outputs": []
    },
    {
      "cell_type": "markdown",
      "source": [
        "There are to many more to talk about lists, in case you needed next you will find some of the most used methods\n",
        "\n",
        "- index()\tReturns the index of the first element with the specified value\n",
        "- append()\tAdds an element at the end of the list\n",
        "- insert()\tAdds an element at the specified position\n",
        "- pop()\tRemoves the element at the specified position\n",
        "- remove()\tRemoves the item with the specified value\n",
        "- count()\tReturns the number of elements with the specified value\n",
        "- sort()\tSorts the list\n",
        "- reverse()\tReverses the order of the list\n",
        "- extend()\tAdd the elements of a list (or any iterable), to the end of the current list\n",
        "- copy()\tReturns a copy of the list\n",
        "- clear()\tRemoves all the elements from the list\n",
        "\n",
        "For any two lists named x & y, those methods can be called by x.append(y)\n"
      ],
      "metadata": {
        "id": "K79LCw4o8iCc"
      }
    },
    {
      "cell_type": "markdown",
      "source": [
        "## Vectors the good way\n",
        "\n",
        "The module numpy offer a proper implementation of the object array which can be used as vector, 2d matrix, or more generally n-d matrices\n",
        "\n",
        "To include the module use:\n",
        "\n",
        "```\n",
        "import numpy as np\n",
        "```\n",
        "This only neet to be done only once, so I will make it for you on the next code cell, however do not forget to include it by yourself at least once, and if possible (good practice) at the beginning of the code/notebook\n",
        "\n",
        "\n",
        "\n",
        "\n",
        "\n"
      ],
      "metadata": {
        "id": "wW8jbaIyCEj6"
      }
    },
    {
      "cell_type": "code",
      "source": [
        "import numpy as np"
      ],
      "metadata": {
        "id": "nuyW79SjMMhR"
      },
      "execution_count": null,
      "outputs": []
    },
    {
      "cell_type": "markdown",
      "source": [
        "\n",
        "To create an array from a list x use:\n",
        "\n",
        "```\n",
        "a = np.array(x)\n",
        "```\n",
        "\n"
      ],
      "metadata": {
        "id": "eGH3qzujMNFY"
      }
    },
    {
      "cell_type": "markdown",
      "source": [
        "📑 Create a list x froma  list of the past executed cell. And remember to `import numpy as np`"
      ],
      "metadata": {
        "id": "oBl70yDPKah1"
      }
    },
    {
      "cell_type": "markdown",
      "source": [
        "## Define vectors as (column) vectors\n",
        "\n",
        "A 1 dimensional array has only one dimension by default. This is a caveat when we want to use them as vectors. Observe what happens in the next calculations"
      ],
      "metadata": {
        "id": "qtcAjq1oFVsb"
      }
    },
    {
      "cell_type": "code",
      "source": [
        "A = np.random.rand(2,4)\n",
        "print(\"A=\", A)\n",
        "\n",
        "x = np.array([1,2,3,4])\n",
        "print(\"x=\", x)\n",
        "\n",
        "print(\"x.transpose()=\",x.transpose() )\n",
        "\n",
        "print(\"A*x=\", A*x)\n",
        "print(\"x*A.T=\", x*A.T)\n"
      ],
      "metadata": {
        "id": "2Kmc3i8D8h7L"
      },
      "execution_count": null,
      "outputs": []
    },
    {
      "cell_type": "markdown",
      "source": [
        "In order to interpret an array as a vector either we define it as a column vector or explicitly we said that is a rowvector with the possiblity of being a column vector:"
      ],
      "metadata": {
        "id": "IOzKS5pX8h0O"
      }
    },
    {
      "cell_type": "code",
      "source": [
        "x = np.array([[1], [2], [3], [4]])\n",
        "print(\"x =\", x, \"\\r\")\n",
        "\n",
        "y = np.atleast_2d([1,2,3,4])\n",
        "print(\"y =\", y, \"\\r\")\n",
        "print(\"y.T =\", y.T, \"\\r\")\n",
        "\n",
        "z = np.array([1,2,3,4],ndmin=2)\n",
        "print(\"z.T=\",z.T)"
      ],
      "metadata": {
        "id": "4c-W3i4e8hs_"
      },
      "execution_count": null,
      "outputs": []
    },
    {
      "cell_type": "markdown",
      "source": [],
      "metadata": {
        "id": "4AXkbzimO5ep"
      }
    },
    {
      "cell_type": "markdown",
      "source": [
        "**Slicing, and Indexing works the same** than it has been shown for lists.\n",
        "\n",
        "📑 Create to vectors x& y, with 5 components and try to calculate the products:\n",
        "\n",
        "*   x.T*y\n",
        "*   y.T*x\n",
        "*   y*x\n",
        "*   x*y\n",
        "\n",
        "\n",
        "\n"
      ],
      "metadata": {
        "id": "J8jKuqsv8hX2"
      }
    },
    {
      "cell_type": "code",
      "source": [],
      "metadata": {
        "id": "0nmBKTEM8hDJ"
      },
      "execution_count": null,
      "outputs": []
    },
    {
      "cell_type": "markdown",
      "source": [
        "## Defining matrices\n",
        "\n",
        "A matrix can be defined just by the concatenation of row lists.\n",
        "\n",
        "arr = np.array([[1, 2, 3, 4, 5], [6, 7, 8, 9, 10]])\n",
        "\n",
        "Size of matrices can be obtained by using the method shape, i.e. `arr.shape` will return (2,5)"
      ],
      "metadata": {
        "id": "BJKltrwS8grz"
      }
    },
    {
      "cell_type": "markdown",
      "source": [
        "📑 Find the number of rows and columns of the array arr, and extract the row and column position of the number 9\n"
      ],
      "metadata": {
        "id": "3dcg93y4Pk5I"
      }
    },
    {
      "cell_type": "code",
      "source": [
        "arr = np.array([[1, 2, 3, 4, 5], [6, 7, 8, 9, 10]])\n"
      ],
      "metadata": {
        "id": "JktFuCTL4-AR"
      },
      "execution_count": null,
      "outputs": []
    },
    {
      "cell_type": "code",
      "execution_count": null,
      "metadata": {
        "id": "KzLWA73D42Eo"
      },
      "outputs": [],
      "source": []
    },
    {
      "cell_type": "markdown",
      "source": [
        "There Exist predefined methods to create matrices that appear very often. \n",
        "Visit [numpy array creation](https://numpy.org/doc/stable/reference/routines.array-creation.html) and...\n",
        "\n",
        "\n",
        "\n"
      ],
      "metadata": {
        "id": "kR_jg4PP48Qv"
      }
    },
    {
      "cell_type": "markdown",
      "source": [
        "📑 Create the identity matrix of dimension 5. (5x5 Matrix with ones on the diagonal)"
      ],
      "metadata": {
        "id": "wFDwjlKzR6-_"
      }
    },
    {
      "cell_type": "code",
      "source": [],
      "metadata": {
        "id": "3SIhE2sNSIio"
      },
      "execution_count": null,
      "outputs": []
    },
    {
      "cell_type": "markdown",
      "source": [
        "📑 Create a rectangular (15x7) matrix with -2's in the diagonal\n",
        "\n"
      ],
      "metadata": {
        "id": "3Fc7oxrnR60P"
      }
    },
    {
      "cell_type": "code",
      "source": [],
      "metadata": {
        "id": "0YeQwYW1SkcH"
      },
      "execution_count": null,
      "outputs": []
    },
    {
      "cell_type": "markdown",
      "source": [
        "📑 Create vector with 17 evenly distributed points starting at 0.25  and ending at 47.3\n"
      ],
      "metadata": {
        "id": "IoalCl7bcjCY"
      }
    },
    {
      "cell_type": "code",
      "source": [
        "\n"
      ],
      "metadata": {
        "id": "3wU9CMrpcw7W"
      },
      "execution_count": null,
      "outputs": []
    },
    {
      "cell_type": "markdown",
      "source": [
        "## Multiplying matrices (and matrices and vectors)\n",
        "\n",
        "As seen befor the operator '*' is not used to express the multiplication of arrays. Instead the function matmul() or the operator @ should be used. \n",
        "\n",
        "\n",
        "\n",
        "\n"
      ],
      "metadata": {
        "id": "IZgj5xOjSlrh"
      }
    },
    {
      "cell_type": "code",
      "source": [
        "A = np.array([[1, 2], [3, 4] ])\n",
        "B = np.random.rand(2,4)\n",
        "C = np.random.rand(4,8)\n",
        "\n",
        "print(\"A=\")\n",
        "print(A,\"\\n\")\n",
        "print(\"B=\")\n",
        "print(B,\"\\n\")\n",
        "print(\"C=\")\n",
        "print(C,\"\\n\")\n",
        "\n",
        "\n",
        "print(\"A*A=\")\n",
        "print(A*A,\"\\n\")\n",
        "print(\"A@A=\")\n",
        "print(A@A,\"\\n\")\n",
        "\n",
        "print(\"A@B=\")\n",
        "print(A@B,\"\\n\")\n",
        "\n",
        "print(\"A@B@C=\")\n",
        "print(A@B@C,\"\\n\")"
      ],
      "metadata": {
        "id": "BLpMSrtkSkSS"
      },
      "execution_count": null,
      "outputs": []
    },
    {
      "cell_type": "markdown",
      "source": [
        "## Functions\n",
        "\n",
        "To define a function in python usse the reserved keyword def\n",
        "\n",
        "```\n",
        "def my_fcn(a,b,c):\n",
        "  # do whatever\n",
        "  return result\n",
        "```\n",
        "\n",
        "Python uses indentation as a mean to finish blocks and no aditional symbols to end a line.\n",
        "\n",
        "See the next example\n",
        "\n",
        "\n",
        "\n",
        "\n"
      ],
      "metadata": {
        "id": "gRvsLTIHSmGb"
      }
    },
    {
      "cell_type": "code",
      "source": [
        "def two_norm1(a):\n",
        "\n",
        "  sum = 0\n",
        "  for q in a:\n",
        "    sum+=q*q\n",
        "\n",
        "  return sum\n",
        "\n",
        "def two_norm2(a):\n",
        "\n",
        "  sum = 0\n",
        "  for q in range(len(a)):\n",
        "    sum+=a[q]*a[q]\n",
        "\n",
        "  return sum\n",
        "\n",
        "def two_norm3(a):\n",
        "  #This function calculate the length of a vector\n",
        "\n",
        "  return (a.T.dot(a)).flatten()\n",
        "\n",
        "x = np.random.rand(60,1)\n",
        "print(two_norm1(x))\n",
        "print(two_norm2(x))\n",
        "print(two_norm3(x))\n",
        "\n"
      ],
      "metadata": {
        "id": "Tu_d14UAR6Qo"
      },
      "execution_count": null,
      "outputs": []
    },
    {
      "cell_type": "markdown",
      "source": [
        "📑 Create a function that given an array of numbers apply the function\n",
        "$ \\frac{1+x^2}{1+\\vert x\\vert}$ to each of its elements and apply it to a random vector of 57 elements"
      ],
      "metadata": {
        "id": "k0EAVfbAcI8h"
      }
    },
    {
      "cell_type": "code",
      "source": [],
      "metadata": {
        "id": "l_MoeLUldzHy"
      },
      "execution_count": null,
      "outputs": []
    },
    {
      "cell_type": "markdown",
      "source": [
        "## if-else statements\n",
        "\n",
        "\n",
        "Sometimes we want to compute one set of commands or another depending on the result of a relational test.\n",
        "\n",
        "There are several forms that this sort of construct can take.\n",
        "The simplest is:\n",
        "\n",
        "```\n",
        "if <expression>:\n",
        "    <commands evaluated if True>\n",
        "```\n",
        "\n",
        "\n",
        "An example follows; given a positive number of pens, a cost is computed and displayed.\n"
      ],
      "metadata": {
        "id": "hNJdiJNAgWJA"
      }
    },
    {
      "cell_type": "code",
      "source": [
        "pens = 8;\n",
        "\n",
        "if pens >= 0:\n",
        "    cost = pens*1.99\n",
        "    print(\"Cost of {p} pens is ${c}\".format(p=pens, c=cost))\n"
      ],
      "metadata": {
        "id": "SKaBv0CxhE9Y"
      },
      "execution_count": null,
      "outputs": []
    },
    {
      "cell_type": "markdown",
      "source": [
        "Intermediate else expression\n",
        "\n",
        "```\n",
        "if <expression>:\n",
        "  <commands evaluated if True>\n",
        "else:\n",
        "    <commands evaluated if False>\n",
        "```\n",
        "\n",
        "The example now prints a warning for negative numbers of pens. Try to change the value associated to pens and see what happen\n"
      ],
      "metadata": {
        "id": "uwWnfBbAhIbd"
      }
    },
    {
      "cell_type": "code",
      "source": [
        "pens = -1;\n",
        "\n",
        "if pens >= 0:\n",
        "    cost = pens*1.99\n",
        "    print(\"Cost of {p} pens is ${c}\".format(p=pens, c=cost))\n",
        "else:\n",
        "    print('An invalid number of pens was specified.')\n"
      ],
      "metadata": {
        "id": "TUhb3tJ0hr3K"
      },
      "execution_count": null,
      "outputs": []
    },
    {
      "cell_type": "markdown",
      "source": [
        "\n",
        "\n",
        "The most general form is:\n",
        "\n",
        "\n",
        "```\n",
        "if <expression1>:\n",
        "        <commands evaluated if expression1 is True>\n",
        "elif <expression2>:\n",
        "        <commands evaluated if expression2 is True>\n",
        "elif <expression3>:\n",
        "        <commands evaluated if expression3 is True>\n",
        "elif <expression4>:\n",
        "        <commands evaluated if expression4 is True>\n",
        "else:\n",
        "        <commands evaluated if all other expressions are False>\n",
        "\n",
        "```\n",
        "\n",
        "\n",
        "\n",
        "We aren’t limited to 4 expressions here; we could add more. We could use this to price pens according to\n",
        "quantity, as follows.\n"
      ],
      "metadata": {
        "id": "dfiW9lOKhrbJ"
      }
    },
    {
      "cell_type": "code",
      "source": [
        "sale = False\n",
        "pens = 0\n",
        "\n",
        "if pens == 0:\n",
        "  sale = False\n",
        "\n",
        "elif pens > 0 and pens < 20:\n",
        "    cost = pens\n",
        "    sale = True\n",
        "\n",
        "elif pens >= 20 and pens < 40:\n",
        "    cost = pens*0.95\n",
        "    sale = True\n",
        "\n",
        "elif pens >= 40 and pens <= 100:\n",
        "    cost = pens*0.90;\n",
        "    sale = True;\n",
        "else:\n",
        "    print('not a valid number of pens')\n",
        "\n",
        "if sale:\n",
        "    print(\"Cost of {p} pens is ${c}\".format(p=pens, c=cost))\n"
      ],
      "metadata": {
        "id": "lpDX2my4iZpa"
      },
      "execution_count": null,
      "outputs": []
    },
    {
      "cell_type": "markdown",
      "source": [],
      "metadata": {
        "id": "_-e6G7XqjW5U"
      }
    },
    {
      "cell_type": "markdown",
      "source": [
        "## For loop\n",
        "\n",
        "The for loop in python is used to visit all the ordered entries from an iterable. Some basic data types are iterable, like list or tuples.\n",
        "\n",
        "The usual loop is represented by a nested block declared be a header\n",
        "\n",
        "```\n",
        "for q in iter:\n",
        "  # do whatever \n",
        "```\n",
        "\n",
        "For loops can incorporate the reserved words:\n",
        "\n",
        "\n",
        "*   break: to end the iteration\n",
        "*   pass: to avoid the actual iteration and go to the next one\n",
        "\n",
        "The use of else is optional to execute a sentence after going out of the loop.\n",
        "\n",
        "\n",
        "```\n",
        "for q in iter:\n",
        "  # do whatever \n",
        "else:\n",
        "  # do this at the end\n",
        "```\n",
        "\n",
        "\n",
        "Visit the [link](https://www.w3schools.com/python/python_for_loops.asp) to see some examples.\n",
        "\n"
      ],
      "metadata": {
        "id": "fpfgsqEUdzq2"
      }
    },
    {
      "cell_type": "markdown",
      "source": [
        "## While loop\n",
        "\n",
        "Sometimes, we want to repeat commands until a condition is satisfied. If we don’t know how many repetitions are required in advance, a while loop is preferable over a for loop. The general structure is\n",
        "\n",
        "\n",
        "```\n",
        "while <expression>:\n",
        "        <commands>\n",
        "```\n",
        "\n",
        "\n",
        "The commands inside the while loop will be repeated as long as the expression returns a value of True.\n",
        "\n",
        "While loop also accepts break and continue statements and the optional else.\n",
        "\n",
        "See some examples at [link](https://www.w3schools.com/python/python_while_loops.asp)\n",
        "\n",
        "\n",
        "An example follows:\n",
        "\n",
        "In the example, we halve a number until it is so small that the computer can’t detect it when added to 1; the last number before this occurs is called machine epsilon and we’ll talk about it more in class.\n",
        "\n"
      ],
      "metadata": {
        "id": "cLbsK9v-jlyw"
      }
    },
    {
      "cell_type": "code",
      "source": [
        "num = 0; myeps = 1;\n",
        "while 1+myeps > 1:\n",
        "    myeps = myeps/2\n",
        "    num += 1\n",
        "\n",
        "print(\"Iterations need:\", num)\n",
        "myeps = 2*myeps\n",
        "print(\"Value of epsilon:\", myeps)\n",
        "\n",
        "print(\"Epsilon calculated by the system:\", np.finfo(float).eps)"
      ],
      "metadata": {
        "id": "On0ENiBXj7tq"
      },
      "execution_count": null,
      "outputs": []
    },
    {
      "cell_type": "markdown",
      "source": [
        "The calculated variable $ϵ$ is known as machine precission, it depends of the data type and the bits used to allocate the variable in memory, but represents the minimum number that the machine is able to distinguish. We will talk more about it in the Lab1"
      ],
      "metadata": {
        "id": "TlzfFe9tkUte"
      }
    },
    {
      "cell_type": "markdown",
      "source": [
        "## Plotting in python\n",
        "\n",
        "Observe the output of the next code box:\n"
      ],
      "metadata": {
        "id": "wkwoUhyKl8BX"
      }
    },
    {
      "cell_type": "code",
      "source": [
        "import matplotlib.pyplot as plt\n",
        "n = 11\n",
        "u = np.linspace(0,2*np.pi,n)\n",
        "v = np.cos(u)\n",
        "\n",
        "plt.plot(u,v)\n",
        "plt.show()"
      ],
      "metadata": {
        "id": "ulpYISyYkT4j"
      },
      "execution_count": null,
      "outputs": []
    },
    {
      "cell_type": "markdown",
      "source": [
        "📑 The last plot had a crude “curve” representing the cosine function; repeat the last example with n=101 to improve the curve"
      ],
      "metadata": {
        "id": "MQQFZKHKn8Qg"
      }
    },
    {
      "cell_type": "code",
      "source": [],
      "metadata": {
        "id": "-r12LA7AoZjC"
      },
      "execution_count": null,
      "outputs": []
    },
    {
      "cell_type": "markdown",
      "source": [
        "📑 Add these commands to clean up the plot by adding axis labels and a title. The text inside the single quotes is a string which we intend to be the labels, etc.\n",
        "- plt.xlabel(’u’); \n",
        "- plt.ylabel(’v’); \n",
        "- plt.title(’v = cos(u)’);\n"
      ],
      "metadata": {
        "id": "U28cfyRcoZ3l"
      }
    },
    {
      "cell_type": "code",
      "source": [],
      "metadata": {
        "id": "ALBPVf64pMv1"
      },
      "execution_count": null,
      "outputs": []
    },
    {
      "cell_type": "markdown",
      "source": [
        "The next box approximates the exponential function by :\n",
        "\n",
        "$$ f(x) = \\frac{1-\\frac{3}{5}x +\\frac{3}{20}x^2 -\\frac{1}{60}x^3}{1 + \\frac{2}{5}x + \\frac{1}{20}x^2}$$\n",
        "\n",
        "Observe what the legend function does:\n"
      ],
      "metadata": {
        "id": "ZUf5SgtGpM9o"
      }
    },
    {
      "cell_type": "code",
      "source": [
        "n= 150\n",
        "x = np.linspace(0,1,n)\n",
        "xsqd = x*x\n",
        "num = 1-(3/5)*x+(3/20)*xsqd -(x/60)*xsqd\n",
        "den = 1+(2/5)*x+(1/20)*xsqd\n",
        "y = num/den;\n",
        "\n",
        "plt.plot(x, y, label='Rational Function')\n",
        "plt.plot(x, np.exp(-x), label='e^{-x}')\n",
        "plt.xlabel('x')\n",
        "plt.ylabel('e^{-x}')\n",
        "plt.title('Rational function approximation to e^{-x}')\n",
        "plt.legend()\n",
        "plt.show()"
      ],
      "metadata": {
        "id": "zysyrfphpy8e"
      },
      "execution_count": null,
      "outputs": []
    }
  ]
}